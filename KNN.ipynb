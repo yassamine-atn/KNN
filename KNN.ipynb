{
  "nbformat": 4,
  "nbformat_minor": 0,
  "metadata": {
    "colab": {
      "name": "L1:KNN from scratch",
      "provenance": []
    },
    "kernelspec": {
      "name": "python3",
      "display_name": "Python 3"
    }
  },
  "cells": [
    {
      "cell_type": "code",
      "metadata": {
        "id": "CHAotfWLSxXF",
        "outputId": "2cf708ce-b8a9-4f5e-adec-6378d972da11",
        "colab": {
          "base_uri": "https://localhost:8080/",
          "height": 1000
        }
      },
      "source": [
        "import csv\n",
        "data=open('iris.data.txt', 'r')\n",
        "lines =csv.reader(data)\n",
        "for row in lines : \n",
        "  print (', '.join(row))\n"
      ],
      "execution_count": null,
      "outputs": [
        {
          "output_type": "stream",
          "text": [
            "5.1, 3.5, 1.4, 0.2, Iris-setosa\n",
            "4.9, 3.0, 1.4, 0.2, Iris-setosa\n",
            "4.7, 3.2, 1.3, 0.2, Iris-setosa\n",
            "4.6, 3.1, 1.5, 0.2, Iris-setosa\n",
            "5.0, 3.6, 1.4, 0.2, Iris-setosa\n",
            "5.4, 3.9, 1.7, 0.4, Iris-setosa\n",
            "4.6, 3.4, 1.4, 0.3, Iris-setosa\n",
            "5.0, 3.4, 1.5, 0.2, Iris-setosa\n",
            "4.4, 2.9, 1.4, 0.2, Iris-setosa\n",
            "4.9, 3.1, 1.5, 0.1, Iris-setosa\n",
            "5.4, 3.7, 1.5, 0.2, Iris-setosa\n",
            "4.8, 3.4, 1.6, 0.2, Iris-setosa\n",
            "4.8, 3.0, 1.4, 0.1, Iris-setosa\n",
            "4.3, 3.0, 1.1, 0.1, Iris-setosa\n",
            "5.8, 4.0, 1.2, 0.2, Iris-setosa\n",
            "5.7, 4.4, 1.5, 0.4, Iris-setosa\n",
            "5.4, 3.9, 1.3, 0.4, Iris-setosa\n",
            "5.1, 3.5, 1.4, 0.3, Iris-setosa\n",
            "5.7, 3.8, 1.7, 0.3, Iris-setosa\n",
            "5.1, 3.8, 1.5, 0.3, Iris-setosa\n",
            "5.4, 3.4, 1.7, 0.2, Iris-setosa\n",
            "5.1, 3.7, 1.5, 0.4, Iris-setosa\n",
            "4.6, 3.6, 1.0, 0.2, Iris-setosa\n",
            "5.1, 3.3, 1.7, 0.5, Iris-setosa\n",
            "4.8, 3.4, 1.9, 0.2, Iris-setosa\n",
            "5.0, 3.0, 1.6, 0.2, Iris-setosa\n",
            "5.0, 3.4, 1.6, 0.4, Iris-setosa\n",
            "5.2, 3.5, 1.5, 0.2, Iris-setosa\n",
            "5.2, 3.4, 1.4, 0.2, Iris-setosa\n",
            "4.7, 3.2, 1.6, 0.2, Iris-setosa\n",
            "4.8, 3.1, 1.6, 0.2, Iris-setosa\n",
            "5.4, 3.4, 1.5, 0.4, Iris-setosa\n",
            "5.2, 4.1, 1.5, 0.1, Iris-setosa\n",
            "5.5, 4.2, 1.4, 0.2, Iris-setosa\n",
            "4.9, 3.1, 1.5, 0.1, Iris-setosa\n",
            "5.0, 3.2, 1.2, 0.2, Iris-setosa\n",
            "5.5, 3.5, 1.3, 0.2, Iris-setosa\n",
            "4.9, 3.1, 1.5, 0.1, Iris-setosa\n",
            "4.4, 3.0, 1.3, 0.2, Iris-setosa\n",
            "5.1, 3.4, 1.5, 0.2, Iris-setosa\n",
            "5.0, 3.5, 1.3, 0.3, Iris-setosa\n",
            "4.5, 2.3, 1.3, 0.3, Iris-setosa\n",
            "4.4, 3.2, 1.3, 0.2, Iris-setosa\n",
            "5.0, 3.5, 1.6, 0.6, Iris-setosa\n",
            "5.1, 3.8, 1.9, 0.4, Iris-setosa\n",
            "4.8, 3.0, 1.4, 0.3, Iris-setosa\n",
            "5.1, 3.8, 1.6, 0.2, Iris-setosa\n",
            "4.6, 3.2, 1.4, 0.2, Iris-setosa\n",
            "5.3, 3.7, 1.5, 0.2, Iris-setosa\n",
            "5.0, 3.3, 1.4, 0.2, Iris-setosa\n",
            "7.0, 3.2, 4.7, 1.4, Iris-versicolor\n",
            "6.4, 3.2, 4.5, 1.5, Iris-versicolor\n",
            "6.9, 3.1, 4.9, 1.5, Iris-versicolor\n",
            "5.5, 2.3, 4.0, 1.3, Iris-versicolor\n",
            "6.5, 2.8, 4.6, 1.5, Iris-versicolor\n",
            "5.7, 2.8, 4.5, 1.3, Iris-versicolor\n",
            "6.3, 3.3, 4.7, 1.6, Iris-versicolor\n",
            "4.9, 2.4, 3.3, 1.0, Iris-versicolor\n",
            "6.6, 2.9, 4.6, 1.3, Iris-versicolor\n",
            "5.2, 2.7, 3.9, 1.4, Iris-versicolor\n",
            "5.0, 2.0, 3.5, 1.0, Iris-versicolor\n",
            "5.9, 3.0, 4.2, 1.5, Iris-versicolor\n",
            "6.0, 2.2, 4.0, 1.0, Iris-versicolor\n",
            "6.1, 2.9, 4.7, 1.4, Iris-versicolor\n",
            "5.6, 2.9, 3.6, 1.3, Iris-versicolor\n",
            "6.7, 3.1, 4.4, 1.4, Iris-versicolor\n",
            "5.6, 3.0, 4.5, 1.5, Iris-versicolor\n",
            "5.8, 2.7, 4.1, 1.0, Iris-versicolor\n",
            "6.2, 2.2, 4.5, 1.5, Iris-versicolor\n",
            "5.6, 2.5, 3.9, 1.1, Iris-versicolor\n",
            "5.9, 3.2, 4.8, 1.8, Iris-versicolor\n",
            "6.1, 2.8, 4.0, 1.3, Iris-versicolor\n",
            "6.3, 2.5, 4.9, 1.5, Iris-versicolor\n",
            "6.1, 2.8, 4.7, 1.2, Iris-versicolor\n",
            "6.4, 2.9, 4.3, 1.3, Iris-versicolor\n",
            "6.6, 3.0, 4.4, 1.4, Iris-versicolor\n",
            "6.8, 2.8, 4.8, 1.4, Iris-versicolor\n",
            "6.7, 3.0, 5.0, 1.7, Iris-versicolor\n",
            "6.0, 2.9, 4.5, 1.5, Iris-versicolor\n",
            "5.7, 2.6, 3.5, 1.0, Iris-versicolor\n",
            "5.5, 2.4, 3.8, 1.1, Iris-versicolor\n",
            "5.5, 2.4, 3.7, 1.0, Iris-versicolor\n",
            "5.8, 2.7, 3.9, 1.2, Iris-versicolor\n",
            "6.0, 2.7, 5.1, 1.6, Iris-versicolor\n",
            "5.4, 3.0, 4.5, 1.5, Iris-versicolor\n",
            "6.0, 3.4, 4.5, 1.6, Iris-versicolor\n",
            "6.7, 3.1, 4.7, 1.5, Iris-versicolor\n",
            "6.3, 2.3, 4.4, 1.3, Iris-versicolor\n",
            "5.6, 3.0, 4.1, 1.3, Iris-versicolor\n",
            "5.5, 2.5, 4.0, 1.3, Iris-versicolor\n",
            "5.5, 2.6, 4.4, 1.2, Iris-versicolor\n",
            "6.1, 3.0, 4.6, 1.4, Iris-versicolor\n",
            "5.8, 2.6, 4.0, 1.2, Iris-versicolor\n",
            "5.0, 2.3, 3.3, 1.0, Iris-versicolor\n",
            "5.6, 2.7, 4.2, 1.3, Iris-versicolor\n",
            "5.7, 3.0, 4.2, 1.2, Iris-versicolor\n",
            "5.7, 2.9, 4.2, 1.3, Iris-versicolor\n",
            "6.2, 2.9, 4.3, 1.3, Iris-versicolor\n",
            "5.1, 2.5, 3.0, 1.1, Iris-versicolor\n",
            "5.7, 2.8, 4.1, 1.3, Iris-versicolor\n",
            "6.3, 3.3, 6.0, 2.5, Iris-virginica\n",
            "5.8, 2.7, 5.1, 1.9, Iris-virginica\n",
            "7.1, 3.0, 5.9, 2.1, Iris-virginica\n",
            "6.3, 2.9, 5.6, 1.8, Iris-virginica\n",
            "6.5, 3.0, 5.8, 2.2, Iris-virginica\n",
            "7.6, 3.0, 6.6, 2.1, Iris-virginica\n",
            "4.9, 2.5, 4.5, 1.7, Iris-virginica\n",
            "7.3, 2.9, 6.3, 1.8, Iris-virginica\n",
            "6.7, 2.5, 5.8, 1.8, Iris-virginica\n",
            "7.2, 3.6, 6.1, 2.5, Iris-virginica\n",
            "6.5, 3.2, 5.1, 2.0, Iris-virginica\n",
            "6.4, 2.7, 5.3, 1.9, Iris-virginica\n",
            "6.8, 3.0, 5.5, 2.1, Iris-virginica\n",
            "5.7, 2.5, 5.0, 2.0, Iris-virginica\n",
            "5.8, 2.8, 5.1, 2.4, Iris-virginica\n",
            "6.4, 3.2, 5.3, 2.3, Iris-virginica\n",
            "6.5, 3.0, 5.5, 1.8, Iris-virginica\n",
            "7.7, 3.8, 6.7, 2.2, Iris-virginica\n",
            "7.7, 2.6, 6.9, 2.3, Iris-virginica\n",
            "6.0, 2.2, 5.0, 1.5, Iris-virginica\n",
            "6.9, 3.2, 5.7, 2.3, Iris-virginica\n",
            "5.6, 2.8, 4.9, 2.0, Iris-virginica\n",
            "7.7, 2.8, 6.7, 2.0, Iris-virginica\n",
            "6.3, 2.7, 4.9, 1.8, Iris-virginica\n",
            "6.7, 3.3, 5.7, 2.1, Iris-virginica\n",
            "7.2, 3.2, 6.0, 1.8, Iris-virginica\n",
            "6.2, 2.8, 4.8, 1.8, Iris-virginica\n",
            "6.1, 3.0, 4.9, 1.8, Iris-virginica\n",
            "6.4, 2.8, 5.6, 2.1, Iris-virginica\n",
            "7.2, 3.0, 5.8, 1.6, Iris-virginica\n",
            "7.4, 2.8, 6.1, 1.9, Iris-virginica\n",
            "7.9, 3.8, 6.4, 2.0, Iris-virginica\n",
            "6.4, 2.8, 5.6, 2.2, Iris-virginica\n",
            "6.3, 2.8, 5.1, 1.5, Iris-virginica\n",
            "6.1, 2.6, 5.6, 1.4, Iris-virginica\n",
            "7.7, 3.0, 6.1, 2.3, Iris-virginica\n",
            "6.3, 3.4, 5.6, 2.4, Iris-virginica\n",
            "6.4, 3.1, 5.5, 1.8, Iris-virginica\n",
            "6.0, 3.0, 4.8, 1.8, Iris-virginica\n",
            "6.9, 3.1, 5.4, 2.1, Iris-virginica\n",
            "6.7, 3.1, 5.6, 2.4, Iris-virginica\n",
            "6.9, 3.1, 5.1, 2.3, Iris-virginica\n",
            "5.8, 2.7, 5.1, 1.9, Iris-virginica\n",
            "6.8, 3.2, 5.9, 2.3, Iris-virginica\n",
            "6.7, 3.3, 5.7, 2.5, Iris-virginica\n",
            "6.7, 3.0, 5.2, 2.3, Iris-virginica\n",
            "6.3, 2.5, 5.0, 1.9, Iris-virginica\n",
            "6.5, 3.0, 5.2, 2.0, Iris-virginica\n",
            "6.2, 3.4, 5.4, 2.3, Iris-virginica\n",
            "5.9, 3.0, 5.1, 1.8, Iris-virginica\n"
          ],
          "name": "stdout"
        }
      ]
    },
    {
      "cell_type": "markdown",
      "metadata": {
        "id": "GTzqsq7oyHtW"
      },
      "source": [
        "# Handle Data\n",
        "\n"
      ]
    },
    {
      "cell_type": "code",
      "metadata": {
        "id": "O7wC4kIpaFKf"
      },
      "source": [
        "import random\n",
        "def loadDataset(filename, split, trainingSet=[] , testSet=[]):\n",
        "    with open(filename, 'r') as csvfile:\n",
        "        lines = csv.reader(csvfile)\n",
        "        dataset = list(lines)\n",
        "        for x in range(len(dataset)):\n",
        "            for y in range(4):\n",
        "                dataset[x][y] = float(dataset[x][y])\n",
        "            if random.random() < split:\n",
        "                trainingSet.append(dataset[x])\n",
        "            else:\n",
        "                testSet.append(dataset[x])"
      ],
      "execution_count": null,
      "outputs": []
    },
    {
      "cell_type": "code",
      "metadata": {
        "id": "SLmXxGKPX6NM",
        "outputId": "f34342dd-fa09-4917-e139-183613d7aac0",
        "colab": {
          "base_uri": "https://localhost:8080/",
          "height": 52
        }
      },
      "source": [
        "trainingSet=[]\n",
        "\n",
        "testSet=[]\n",
        "\n",
        "loadDataset('iris.data.txt', 0.66, trainingSet, testSet)\n",
        "\n",
        "print ('Train: ' + repr(len(trainingSet)))\n",
        "\n",
        "print ('Test: ' + repr(len(testSet)) )"
      ],
      "execution_count": null,
      "outputs": [
        {
          "output_type": "stream",
          "text": [
            "Train: 103\n",
            "Test: 47\n"
          ],
          "name": "stdout"
        }
      ]
    },
    {
      "cell_type": "markdown",
      "metadata": {
        "id": "uxRhu2qDzD49"
      },
      "source": [
        "# Similarity"
      ]
    },
    {
      "cell_type": "code",
      "metadata": {
        "id": "x1odnf4f2e3b"
      },
      "source": [
        "import math\n",
        "\n",
        "def euclideanDistance(instance1, instance2, length):\n",
        "  distance=0\n",
        "  for x in range(0,length):\n",
        "    distance+= math.pow((instance2[x]-instance1[x]),2)\n",
        "  return math.sqrt(distance)"
      ],
      "execution_count": null,
      "outputs": []
    },
    {
      "cell_type": "code",
      "metadata": {
        "id": "8gMHxxB60wxX",
        "outputId": "21d4d7bd-89d9-4fe2-8255-bf86e3330aed",
        "colab": {
          "base_uri": "https://localhost:8080/",
          "height": 34
        }
      },
      "source": [
        "data1 = [2, 2, 2, 'a']\n",
        "\n",
        "data2 = [4, 4, 4, 'b']\n",
        "\n",
        "distance = euclideanDistance(data1, data2, 3)\n",
        "\n",
        "print ('Distance: ' + repr(distance))"
      ],
      "execution_count": null,
      "outputs": [
        {
          "output_type": "stream",
          "text": [
            "Distance: 3.4641016151377544\n"
          ],
          "name": "stdout"
        }
      ]
    },
    {
      "cell_type": "markdown",
      "metadata": {
        "id": "VmqkUJAX20gH"
      },
      "source": [
        "# Neighbors"
      ]
    },
    {
      "cell_type": "code",
      "metadata": {
        "id": "jJx405rp1sSE"
      },
      "source": [
        "import operator \n",
        "def getNeighbors(trainingSet, testInstance, k):\n",
        "\n",
        "  distances = []\n",
        "\n",
        "  length = len(testInstance)-1\n",
        "\n",
        "  for x in range(len(trainingSet)):\n",
        "\n",
        "    dist = euclideanDistance(testInstance, trainingSet[x], length)\n",
        "\n",
        "    distances.append((trainingSet[x], dist))\n",
        "\n",
        "    distances.sort(key=operator.itemgetter(1))\n",
        "\n",
        "  neighbors = []\n",
        "\n",
        "  for x in range(k):\n",
        "\n",
        "    neighbors.append(distances[x][0])\n",
        "\n",
        "  return neighbors"
      ],
      "execution_count": null,
      "outputs": []
    },
    {
      "cell_type": "code",
      "metadata": {
        "id": "3GmkISej8BHd",
        "outputId": "d93b0e49-e5ea-4f07-a65b-7dfd61bce669",
        "colab": {
          "base_uri": "https://localhost:8080/",
          "height": 34
        }
      },
      "source": [
        "trainSet = [[2, 2, 2, 'a'], [4, 4, 4, 'b']]\n",
        "\n",
        "testInstance = [5, 5, 5]\n",
        "\n",
        "k = 1\n",
        "\n",
        "neighbors = getNeighbors(trainSet, testInstance, 1)\n",
        "\n",
        "print(neighbors)"
      ],
      "execution_count": null,
      "outputs": [
        {
          "output_type": "stream",
          "text": [
            "[[4, 4, 4, 'b']]\n"
          ],
          "name": "stdout"
        }
      ]
    },
    {
      "cell_type": "markdown",
      "metadata": {
        "id": "JnV7T9Pp8tRq"
      },
      "source": [
        "# Response"
      ]
    },
    {
      "cell_type": "code",
      "metadata": {
        "id": "a2D0ix938Xs8"
      },
      "source": [
        "import operator\n",
        "\n",
        "def getResponse(neighbors):\n",
        "\n",
        "  classVotes = {}\n",
        "\n",
        "  for x in range(len(neighbors)):\n",
        "\n",
        "    response = neighbors[x][ -1 ] #complete with appropriate number\n",
        "\n",
        "    if response in classVotes:\n",
        "            classVotes[response] += 1\n",
        "    else:\n",
        "            classVotes[response] = 1\n",
        "      \n",
        "\n",
        "  sortedVotes = sorted(classVotes.items(), key=operator.itemgetter(1), reverse=True)\n",
        "\n",
        "  return sortedVotes[0][0]"
      ],
      "execution_count": null,
      "outputs": []
    },
    {
      "cell_type": "code",
      "metadata": {
        "id": "Ms2yrjgu-256",
        "outputId": "bfcd748f-2af7-4239-e2db-b385b9b2633e",
        "colab": {
          "base_uri": "https://localhost:8080/",
          "height": 34
        }
      },
      "source": [
        "neighbors = [[1,1,1,'a'], [2,2,2,'a'], [3,3,3,'b']]\n",
        "\n",
        "response = getResponse(neighbors)\n",
        "\n",
        "print(response)"
      ],
      "execution_count": null,
      "outputs": [
        {
          "output_type": "stream",
          "text": [
            "a\n"
          ],
          "name": "stdout"
        }
      ]
    },
    {
      "cell_type": "markdown",
      "metadata": {
        "id": "VV6KJMcUBthV"
      },
      "source": [
        "# Accuracy"
      ]
    },
    {
      "cell_type": "code",
      "metadata": {
        "id": "mcmeQnKX-3lH"
      },
      "source": [
        "def getAccuracy(testSet, predictions):\n",
        "  correct=0 \n",
        "  for x in range(len(predictions)) : \n",
        "    if(testSet[x][-1]==predictions[x]):\n",
        "      correct+=1 \n",
        "  return (correct/float(len(testSet))) * 100.0"
      ],
      "execution_count": null,
      "outputs": []
    },
    {
      "cell_type": "code",
      "metadata": {
        "id": "BalTB_aYG4xI",
        "outputId": "b9a7ae82-9635-4cd6-8944-adce2b7f8d34",
        "colab": {
          "base_uri": "https://localhost:8080/",
          "height": 34
        }
      },
      "source": [
        "testSet = [[1,1,1,'a'], [2,2,2,'a'], [3,3,3,'b']]\n",
        "\n",
        "predictions = ['a', 'a', 'a']\n",
        "\n",
        "accuracy = getAccuracy(testSet, predictions)\n",
        "\n",
        "print(accuracy)"
      ],
      "execution_count": null,
      "outputs": [
        {
          "output_type": "stream",
          "text": [
            "66.66666666666666\n"
          ],
          "name": "stdout"
        }
      ]
    },
    {
      "cell_type": "markdown",
      "metadata": {
        "id": "99tVi9BskDlZ"
      },
      "source": [
        "# Main"
      ]
    },
    {
      "cell_type": "code",
      "metadata": {
        "id": "rv8PLplAG_TX",
        "outputId": "920366de-d0df-46c2-8f3c-7ded49d909a6",
        "colab": {
          "base_uri": "https://localhost:8080/",
          "height": 70
        }
      },
      "source": [
        "def main():\n",
        "    trainingSet=[]\n",
        "    testSet=[]\n",
        "    split = 0.67\n",
        "    loadDataset('iris.data.txt', split, trainingSet, testSet)\n",
        "    print ('Train set: ' + repr(len(trainingSet)))\n",
        "    print ('Test set: ' + repr(len(testSet)) )   \n",
        "    predictions=[]\n",
        "    k = 3\n",
        "    for x in range(len(testSet)):\n",
        "        neighbors = getNeighbors(trainingSet, testSet[x], k)\n",
        "        result = getResponse(neighbors)\n",
        "        predictions.append(result)\n",
        "    accuracy = getAccuracy(testSet, predictions)\n",
        "    print ('Accuracy: ', accuracy)\n",
        "\n",
        "main()\n",
        "#overfitting ?"
      ],
      "execution_count": null,
      "outputs": [
        {
          "output_type": "stream",
          "text": [
            "Train set: 96\n",
            "Test set: 54\n",
            "Accuracy:  98.14814814814815\n"
          ],
          "name": "stdout"
        }
      ]
    },
    {
      "cell_type": "markdown",
      "metadata": {
        "id": "IOL_GPqF2_8d"
      },
      "source": [
        "# Another distance metric"
      ]
    },
    {
      "cell_type": "code",
      "metadata": {
        "id": "deTY2Li3la0S"
      },
      "source": [
        "from sklearn.neighbors import KNeighborsClassifier\n",
        "from sklearn.metrics import accuracy_score\n",
        "import pandas as pd\n",
        "import plotly.express as plt"
      ],
      "execution_count": null,
      "outputs": []
    },
    {
      "cell_type": "code",
      "metadata": {
        "id": "4_gK3d2UPZza",
        "outputId": "573c4d94-b703-42bc-d505-c2e72ae00588",
        "colab": {
          "base_uri": "https://localhost:8080/",
          "height": 141
        }
      },
      "source": [
        "data=pd.read_csv(\"Iris.csv\") \n",
        "data.head()\n",
        "data.isnull().sum()"
      ],
      "execution_count": null,
      "outputs": [
        {
          "output_type": "execute_result",
          "data": {
            "text/plain": [
              "Id               0\n",
              "SepalLengthCm    0\n",
              "SepalWidthCm     0\n",
              "PetalLengthCm    0\n",
              "PetalWidthCm     0\n",
              "Species          0\n",
              "dtype: int64"
            ]
          },
          "metadata": {
            "tags": []
          },
          "execution_count": 42
        }
      ]
    },
    {
      "cell_type": "code",
      "metadata": {
        "id": "wI32kQC6PssQ",
        "outputId": "7c98c117-c349-42a1-af54-73f76e95d723",
        "colab": {
          "base_uri": "https://localhost:8080/",
          "height": 87
        }
      },
      "source": [
        "data[\"Species\"].value_counts()"
      ],
      "execution_count": null,
      "outputs": [
        {
          "output_type": "execute_result",
          "data": {
            "text/plain": [
              "Iris-setosa        50\n",
              "Iris-versicolor    50\n",
              "Iris-virginica     50\n",
              "Name: Species, dtype: int64"
            ]
          },
          "metadata": {
            "tags": []
          },
          "execution_count": 43
        }
      ]
    },
    {
      "cell_type": "code",
      "metadata": {
        "id": "4jtfxpVePiaa"
      },
      "source": [
        "data=data.drop([\"Id\",\"PetalLengthCm\",\"PetalWidthCm\"],axis=1)"
      ],
      "execution_count": null,
      "outputs": []
    },
    {
      "cell_type": "code",
      "metadata": {
        "id": "qqigGAYQP3X6",
        "outputId": "89adf0ac-cf33-4cef-b1ca-3df4d6550926",
        "colab": {
          "base_uri": "https://localhost:8080/",
          "height": 542
        }
      },
      "source": [
        "fig = plt.scatter(data, y=\"SepalWidthCm\", x=\"SepalLengthCm\", color=\"Species\")\n",
        "fig.show()"
      ],
      "execution_count": null,
      "outputs": [
        {
          "output_type": "display_data",
          "data": {
            "text/html": [
              "<html>\n",
              "<head><meta charset=\"utf-8\" /></head>\n",
              "<body>\n",
              "    <div>\n",
              "            <script src=\"https://cdnjs.cloudflare.com/ajax/libs/mathjax/2.7.5/MathJax.js?config=TeX-AMS-MML_SVG\"></script><script type=\"text/javascript\">if (window.MathJax) {MathJax.Hub.Config({SVG: {font: \"STIX-Web\"}});}</script>\n",
              "                <script type=\"text/javascript\">window.PlotlyConfig = {MathJaxConfig: 'local'};</script>\n",
              "        <script src=\"https://cdn.plot.ly/plotly-latest.min.js\"></script>    \n",
              "            <div id=\"2300babf-42c7-4a88-b76a-52d6cdc84c44\" class=\"plotly-graph-div\" style=\"height:525px; width:100%;\"></div>\n",
              "            <script type=\"text/javascript\">\n",
              "                \n",
              "                    window.PLOTLYENV=window.PLOTLYENV || {};\n",
              "                    \n",
              "                if (document.getElementById(\"2300babf-42c7-4a88-b76a-52d6cdc84c44\")) {\n",
              "                    Plotly.newPlot(\n",
              "                        '2300babf-42c7-4a88-b76a-52d6cdc84c44',\n",
              "                        [{\"hoverlabel\": {\"namelength\": 0}, \"hovertemplate\": \"Species=Iris-setosa<br>SepalLengthCm=%{x}<br>SepalWidthCm=%{y}\", \"legendgroup\": \"Species=Iris-setosa\", \"marker\": {\"color\": \"#636efa\", \"symbol\": \"circle\"}, \"mode\": \"markers\", \"name\": \"Species=Iris-setosa\", \"showlegend\": true, \"type\": \"scatter\", \"x\": [5.1, 4.9, 4.7, 4.6, 5.0, 5.4, 4.6, 5.0, 4.4, 4.9, 5.4, 4.8, 4.8, 4.3, 5.8, 5.7, 5.4, 5.1, 5.7, 5.1, 5.4, 5.1, 4.6, 5.1, 4.8, 5.0, 5.0, 5.2, 5.2, 4.7, 4.8, 5.4, 5.2, 5.5, 4.9, 5.0, 5.5, 4.9, 4.4, 5.1, 5.0, 4.5, 4.4, 5.0, 5.1, 4.8, 5.1, 4.6, 5.3, 5.0], \"xaxis\": \"x\", \"y\": [3.5, 3.0, 3.2, 3.1, 3.6, 3.9, 3.4, 3.4, 2.9, 3.1, 3.7, 3.4, 3.0, 3.0, 4.0, 4.4, 3.9, 3.5, 3.8, 3.8, 3.4, 3.7, 3.6, 3.3, 3.4, 3.0, 3.4, 3.5, 3.4, 3.2, 3.1, 3.4, 4.1, 4.2, 3.1, 3.2, 3.5, 3.1, 3.0, 3.4, 3.5, 2.3, 3.2, 3.5, 3.8, 3.0, 3.8, 3.2, 3.7, 3.3], \"yaxis\": \"y\"}, {\"hoverlabel\": {\"namelength\": 0}, \"hovertemplate\": \"Species=Iris-versicolor<br>SepalLengthCm=%{x}<br>SepalWidthCm=%{y}\", \"legendgroup\": \"Species=Iris-versicolor\", \"marker\": {\"color\": \"#EF553B\", \"symbol\": \"circle\"}, \"mode\": \"markers\", \"name\": \"Species=Iris-versicolor\", \"showlegend\": true, \"type\": \"scatter\", \"x\": [7.0, 6.4, 6.9, 5.5, 6.5, 5.7, 6.3, 4.9, 6.6, 5.2, 5.0, 5.9, 6.0, 6.1, 5.6, 6.7, 5.6, 5.8, 6.2, 5.6, 5.9, 6.1, 6.3, 6.1, 6.4, 6.6, 6.8, 6.7, 6.0, 5.7, 5.5, 5.5, 5.8, 6.0, 5.4, 6.0, 6.7, 6.3, 5.6, 5.5, 5.5, 6.1, 5.8, 5.0, 5.6, 5.7, 5.7, 6.2, 5.1, 5.7], \"xaxis\": \"x\", \"y\": [3.2, 3.2, 3.1, 2.3, 2.8, 2.8, 3.3, 2.4, 2.9, 2.7, 2.0, 3.0, 2.2, 2.9, 2.9, 3.1, 3.0, 2.7, 2.2, 2.5, 3.2, 2.8, 2.5, 2.8, 2.9, 3.0, 2.8, 3.0, 2.9, 2.6, 2.4, 2.4, 2.7, 2.7, 3.0, 3.4, 3.1, 2.3, 3.0, 2.5, 2.6, 3.0, 2.6, 2.3, 2.7, 3.0, 2.9, 2.9, 2.5, 2.8], \"yaxis\": \"y\"}, {\"hoverlabel\": {\"namelength\": 0}, \"hovertemplate\": \"Species=Iris-virginica<br>SepalLengthCm=%{x}<br>SepalWidthCm=%{y}\", \"legendgroup\": \"Species=Iris-virginica\", \"marker\": {\"color\": \"#00cc96\", \"symbol\": \"circle\"}, \"mode\": \"markers\", \"name\": \"Species=Iris-virginica\", \"showlegend\": true, \"type\": \"scatter\", \"x\": [6.3, 5.8, 7.1, 6.3, 6.5, 7.6, 4.9, 7.3, 6.7, 7.2, 6.5, 6.4, 6.8, 5.7, 5.8, 6.4, 6.5, 7.7, 7.7, 6.0, 6.9, 5.6, 7.7, 6.3, 6.7, 7.2, 6.2, 6.1, 6.4, 7.2, 7.4, 7.9, 6.4, 6.3, 6.1, 7.7, 6.3, 6.4, 6.0, 6.9, 6.7, 6.9, 5.8, 6.8, 6.7, 6.7, 6.3, 6.5, 6.2, 5.9], \"xaxis\": \"x\", \"y\": [3.3, 2.7, 3.0, 2.9, 3.0, 3.0, 2.5, 2.9, 2.5, 3.6, 3.2, 2.7, 3.0, 2.5, 2.8, 3.2, 3.0, 3.8, 2.6, 2.2, 3.2, 2.8, 2.8, 2.7, 3.3, 3.2, 2.8, 3.0, 2.8, 3.0, 2.8, 3.8, 2.8, 2.8, 2.6, 3.0, 3.4, 3.1, 3.0, 3.1, 3.1, 3.1, 2.7, 3.2, 3.3, 3.0, 2.5, 3.0, 3.4, 3.0], \"yaxis\": \"y\"}],\n",
              "                        {\"legend\": {\"tracegroupgap\": 0}, \"margin\": {\"t\": 60}, \"template\": {\"data\": {\"bar\": [{\"error_x\": {\"color\": \"#2a3f5f\"}, \"error_y\": {\"color\": \"#2a3f5f\"}, \"marker\": {\"line\": {\"color\": \"#E5ECF6\", \"width\": 0.5}}, \"type\": \"bar\"}], \"barpolar\": [{\"marker\": {\"line\": {\"color\": \"#E5ECF6\", \"width\": 0.5}}, \"type\": \"barpolar\"}], \"carpet\": [{\"aaxis\": {\"endlinecolor\": \"#2a3f5f\", \"gridcolor\": \"white\", \"linecolor\": \"white\", \"minorgridcolor\": \"white\", \"startlinecolor\": \"#2a3f5f\"}, \"baxis\": {\"endlinecolor\": \"#2a3f5f\", \"gridcolor\": \"white\", \"linecolor\": \"white\", \"minorgridcolor\": \"white\", \"startlinecolor\": \"#2a3f5f\"}, \"type\": \"carpet\"}], \"choropleth\": [{\"colorbar\": {\"outlinewidth\": 0, \"ticks\": \"\"}, \"type\": \"choropleth\"}], \"contour\": [{\"colorbar\": {\"outlinewidth\": 0, \"ticks\": \"\"}, \"colorscale\": [[0.0, \"#0d0887\"], [0.1111111111111111, \"#46039f\"], [0.2222222222222222, \"#7201a8\"], [0.3333333333333333, \"#9c179e\"], [0.4444444444444444, \"#bd3786\"], [0.5555555555555556, \"#d8576b\"], [0.6666666666666666, \"#ed7953\"], [0.7777777777777778, \"#fb9f3a\"], [0.8888888888888888, \"#fdca26\"], [1.0, \"#f0f921\"]], \"type\": \"contour\"}], \"contourcarpet\": [{\"colorbar\": {\"outlinewidth\": 0, \"ticks\": \"\"}, \"type\": \"contourcarpet\"}], \"heatmap\": [{\"colorbar\": {\"outlinewidth\": 0, \"ticks\": \"\"}, \"colorscale\": [[0.0, \"#0d0887\"], [0.1111111111111111, \"#46039f\"], [0.2222222222222222, \"#7201a8\"], [0.3333333333333333, \"#9c179e\"], [0.4444444444444444, \"#bd3786\"], [0.5555555555555556, \"#d8576b\"], [0.6666666666666666, \"#ed7953\"], [0.7777777777777778, \"#fb9f3a\"], [0.8888888888888888, \"#fdca26\"], [1.0, \"#f0f921\"]], \"type\": \"heatmap\"}], \"heatmapgl\": [{\"colorbar\": {\"outlinewidth\": 0, \"ticks\": \"\"}, \"colorscale\": [[0.0, \"#0d0887\"], [0.1111111111111111, \"#46039f\"], [0.2222222222222222, \"#7201a8\"], [0.3333333333333333, \"#9c179e\"], [0.4444444444444444, \"#bd3786\"], [0.5555555555555556, \"#d8576b\"], [0.6666666666666666, \"#ed7953\"], [0.7777777777777778, \"#fb9f3a\"], [0.8888888888888888, \"#fdca26\"], [1.0, \"#f0f921\"]], \"type\": \"heatmapgl\"}], \"histogram\": [{\"marker\": {\"colorbar\": {\"outlinewidth\": 0, \"ticks\": \"\"}}, \"type\": \"histogram\"}], \"histogram2d\": [{\"colorbar\": {\"outlinewidth\": 0, \"ticks\": \"\"}, \"colorscale\": [[0.0, \"#0d0887\"], [0.1111111111111111, \"#46039f\"], [0.2222222222222222, \"#7201a8\"], [0.3333333333333333, \"#9c179e\"], [0.4444444444444444, \"#bd3786\"], [0.5555555555555556, \"#d8576b\"], [0.6666666666666666, \"#ed7953\"], [0.7777777777777778, \"#fb9f3a\"], [0.8888888888888888, \"#fdca26\"], [1.0, \"#f0f921\"]], \"type\": \"histogram2d\"}], \"histogram2dcontour\": [{\"colorbar\": {\"outlinewidth\": 0, \"ticks\": \"\"}, \"colorscale\": [[0.0, \"#0d0887\"], [0.1111111111111111, \"#46039f\"], [0.2222222222222222, \"#7201a8\"], [0.3333333333333333, \"#9c179e\"], [0.4444444444444444, \"#bd3786\"], [0.5555555555555556, \"#d8576b\"], [0.6666666666666666, \"#ed7953\"], [0.7777777777777778, \"#fb9f3a\"], [0.8888888888888888, \"#fdca26\"], [1.0, \"#f0f921\"]], \"type\": \"histogram2dcontour\"}], \"mesh3d\": [{\"colorbar\": {\"outlinewidth\": 0, \"ticks\": \"\"}, \"type\": \"mesh3d\"}], \"parcoords\": [{\"line\": {\"colorbar\": {\"outlinewidth\": 0, \"ticks\": \"\"}}, \"type\": \"parcoords\"}], \"pie\": [{\"automargin\": true, \"type\": \"pie\"}], \"scatter\": [{\"marker\": {\"colorbar\": {\"outlinewidth\": 0, \"ticks\": \"\"}}, \"type\": \"scatter\"}], \"scatter3d\": [{\"line\": {\"colorbar\": {\"outlinewidth\": 0, \"ticks\": \"\"}}, \"marker\": {\"colorbar\": {\"outlinewidth\": 0, \"ticks\": \"\"}}, \"type\": \"scatter3d\"}], \"scattercarpet\": [{\"marker\": {\"colorbar\": {\"outlinewidth\": 0, \"ticks\": \"\"}}, \"type\": \"scattercarpet\"}], \"scattergeo\": [{\"marker\": {\"colorbar\": {\"outlinewidth\": 0, \"ticks\": \"\"}}, \"type\": \"scattergeo\"}], \"scattergl\": [{\"marker\": {\"colorbar\": {\"outlinewidth\": 0, \"ticks\": \"\"}}, \"type\": \"scattergl\"}], \"scattermapbox\": [{\"marker\": {\"colorbar\": {\"outlinewidth\": 0, \"ticks\": \"\"}}, \"type\": \"scattermapbox\"}], \"scatterpolar\": [{\"marker\": {\"colorbar\": {\"outlinewidth\": 0, \"ticks\": \"\"}}, \"type\": \"scatterpolar\"}], \"scatterpolargl\": [{\"marker\": {\"colorbar\": {\"outlinewidth\": 0, \"ticks\": \"\"}}, \"type\": \"scatterpolargl\"}], \"scatterternary\": [{\"marker\": {\"colorbar\": {\"outlinewidth\": 0, \"ticks\": \"\"}}, \"type\": \"scatterternary\"}], \"surface\": [{\"colorbar\": {\"outlinewidth\": 0, \"ticks\": \"\"}, \"colorscale\": [[0.0, \"#0d0887\"], [0.1111111111111111, \"#46039f\"], [0.2222222222222222, \"#7201a8\"], [0.3333333333333333, \"#9c179e\"], [0.4444444444444444, \"#bd3786\"], [0.5555555555555556, \"#d8576b\"], [0.6666666666666666, \"#ed7953\"], [0.7777777777777778, \"#fb9f3a\"], [0.8888888888888888, \"#fdca26\"], [1.0, \"#f0f921\"]], \"type\": \"surface\"}], \"table\": [{\"cells\": {\"fill\": {\"color\": \"#EBF0F8\"}, \"line\": {\"color\": \"white\"}}, \"header\": {\"fill\": {\"color\": \"#C8D4E3\"}, \"line\": {\"color\": \"white\"}}, \"type\": \"table\"}]}, \"layout\": {\"annotationdefaults\": {\"arrowcolor\": \"#2a3f5f\", \"arrowhead\": 0, \"arrowwidth\": 1}, \"coloraxis\": {\"colorbar\": {\"outlinewidth\": 0, \"ticks\": \"\"}}, \"colorscale\": {\"diverging\": [[0, \"#8e0152\"], [0.1, \"#c51b7d\"], [0.2, \"#de77ae\"], [0.3, \"#f1b6da\"], [0.4, \"#fde0ef\"], [0.5, \"#f7f7f7\"], [0.6, \"#e6f5d0\"], [0.7, \"#b8e186\"], [0.8, \"#7fbc41\"], [0.9, \"#4d9221\"], [1, \"#276419\"]], \"sequential\": [[0.0, \"#0d0887\"], [0.1111111111111111, \"#46039f\"], [0.2222222222222222, \"#7201a8\"], [0.3333333333333333, \"#9c179e\"], [0.4444444444444444, \"#bd3786\"], [0.5555555555555556, \"#d8576b\"], [0.6666666666666666, \"#ed7953\"], [0.7777777777777778, \"#fb9f3a\"], [0.8888888888888888, \"#fdca26\"], [1.0, \"#f0f921\"]], \"sequentialminus\": [[0.0, \"#0d0887\"], [0.1111111111111111, \"#46039f\"], [0.2222222222222222, \"#7201a8\"], [0.3333333333333333, \"#9c179e\"], [0.4444444444444444, \"#bd3786\"], [0.5555555555555556, \"#d8576b\"], [0.6666666666666666, \"#ed7953\"], [0.7777777777777778, \"#fb9f3a\"], [0.8888888888888888, \"#fdca26\"], [1.0, \"#f0f921\"]]}, \"colorway\": [\"#636efa\", \"#EF553B\", \"#00cc96\", \"#ab63fa\", \"#FFA15A\", \"#19d3f3\", \"#FF6692\", \"#B6E880\", \"#FF97FF\", \"#FECB52\"], \"font\": {\"color\": \"#2a3f5f\"}, \"geo\": {\"bgcolor\": \"white\", \"lakecolor\": \"white\", \"landcolor\": \"#E5ECF6\", \"showlakes\": true, \"showland\": true, \"subunitcolor\": \"white\"}, \"hoverlabel\": {\"align\": \"left\"}, \"hovermode\": \"closest\", \"mapbox\": {\"style\": \"light\"}, \"paper_bgcolor\": \"white\", \"plot_bgcolor\": \"#E5ECF6\", \"polar\": {\"angularaxis\": {\"gridcolor\": \"white\", \"linecolor\": \"white\", \"ticks\": \"\"}, \"bgcolor\": \"#E5ECF6\", \"radialaxis\": {\"gridcolor\": \"white\", \"linecolor\": \"white\", \"ticks\": \"\"}}, \"scene\": {\"xaxis\": {\"backgroundcolor\": \"#E5ECF6\", \"gridcolor\": \"white\", \"gridwidth\": 2, \"linecolor\": \"white\", \"showbackground\": true, \"ticks\": \"\", \"zerolinecolor\": \"white\"}, \"yaxis\": {\"backgroundcolor\": \"#E5ECF6\", \"gridcolor\": \"white\", \"gridwidth\": 2, \"linecolor\": \"white\", \"showbackground\": true, \"ticks\": \"\", \"zerolinecolor\": \"white\"}, \"zaxis\": {\"backgroundcolor\": \"#E5ECF6\", \"gridcolor\": \"white\", \"gridwidth\": 2, \"linecolor\": \"white\", \"showbackground\": true, \"ticks\": \"\", \"zerolinecolor\": \"white\"}}, \"shapedefaults\": {\"line\": {\"color\": \"#2a3f5f\"}}, \"ternary\": {\"aaxis\": {\"gridcolor\": \"white\", \"linecolor\": \"white\", \"ticks\": \"\"}, \"baxis\": {\"gridcolor\": \"white\", \"linecolor\": \"white\", \"ticks\": \"\"}, \"bgcolor\": \"#E5ECF6\", \"caxis\": {\"gridcolor\": \"white\", \"linecolor\": \"white\", \"ticks\": \"\"}}, \"title\": {\"x\": 0.05}, \"xaxis\": {\"automargin\": true, \"gridcolor\": \"white\", \"linecolor\": \"white\", \"ticks\": \"\", \"title\": {\"standoff\": 15}, \"zerolinecolor\": \"white\", \"zerolinewidth\": 2}, \"yaxis\": {\"automargin\": true, \"gridcolor\": \"white\", \"linecolor\": \"white\", \"ticks\": \"\", \"title\": {\"standoff\": 15}, \"zerolinecolor\": \"white\", \"zerolinewidth\": 2}}}, \"xaxis\": {\"anchor\": \"y\", \"domain\": [0.0, 1.0], \"title\": {\"text\": \"SepalLengthCm\"}}, \"yaxis\": {\"anchor\": \"x\", \"domain\": [0.0, 1.0], \"title\": {\"text\": \"SepalWidthCm\"}}},\n",
              "                        {\"responsive\": true}\n",
              "                    ).then(function(){\n",
              "                            \n",
              "var gd = document.getElementById('2300babf-42c7-4a88-b76a-52d6cdc84c44');\n",
              "var x = new MutationObserver(function (mutations, observer) {{\n",
              "        var display = window.getComputedStyle(gd).display;\n",
              "        if (!display || display === 'none') {{\n",
              "            console.log([gd, 'removed!']);\n",
              "            Plotly.purge(gd);\n",
              "            observer.disconnect();\n",
              "        }}\n",
              "}});\n",
              "\n",
              "// Listen for the removal of the full notebook cells\n",
              "var notebookContainer = gd.closest('#notebook-container');\n",
              "if (notebookContainer) {{\n",
              "    x.observe(notebookContainer, {childList: true});\n",
              "}}\n",
              "\n",
              "// Listen for the clearing of the current output cell\n",
              "var outputEl = gd.closest('.output');\n",
              "if (outputEl) {{\n",
              "    x.observe(outputEl, {childList: true});\n",
              "}}\n",
              "\n",
              "                        })\n",
              "                };\n",
              "                \n",
              "            </script>\n",
              "        </div>\n",
              "</body>\n",
              "</html>"
            ]
          },
          "metadata": {
            "tags": []
          }
        }
      ]
    },
    {
      "cell_type": "markdown",
      "metadata": {
        "id": "_Im6FSqVN0G6"
      },
      "source": [
        "**Outliers**"
      ]
    },
    {
      "cell_type": "code",
      "metadata": {
        "id": "cK9_uvufL5AG",
        "outputId": "917deb8f-b723-4a08-dc26-3af0963e922a",
        "colab": {
          "base_uri": "https://localhost:8080/",
          "height": 424
        }
      },
      "source": [
        "from scipy import stats \n",
        "from sklearn.preprocessing import LabelEncoder\n",
        "import numpy as np\n",
        "species={\"Species\":{\"Iris-virginica\":0,\"Iris-versicolor\":1,\"Iris-setosa\":2}}\n",
        "data.replace(species,inplace=True)\n",
        "z=np.abs(stats.zscore(data))\n",
        "print(np.where(z>3))\n",
        "data=data[(z<3).all(axis=1)]\n",
        "data"
      ],
      "execution_count": null,
      "outputs": [
        {
          "output_type": "stream",
          "text": [
            "(array([15]), array([1]))\n"
          ],
          "name": "stdout"
        },
        {
          "output_type": "execute_result",
          "data": {
            "text/html": [
              "<div>\n",
              "<style scoped>\n",
              "    .dataframe tbody tr th:only-of-type {\n",
              "        vertical-align: middle;\n",
              "    }\n",
              "\n",
              "    .dataframe tbody tr th {\n",
              "        vertical-align: top;\n",
              "    }\n",
              "\n",
              "    .dataframe thead th {\n",
              "        text-align: right;\n",
              "    }\n",
              "</style>\n",
              "<table border=\"1\" class=\"dataframe\">\n",
              "  <thead>\n",
              "    <tr style=\"text-align: right;\">\n",
              "      <th></th>\n",
              "      <th>SepalLengthCm</th>\n",
              "      <th>SepalWidthCm</th>\n",
              "      <th>Species</th>\n",
              "    </tr>\n",
              "  </thead>\n",
              "  <tbody>\n",
              "    <tr>\n",
              "      <th>0</th>\n",
              "      <td>5.1</td>\n",
              "      <td>3.5</td>\n",
              "      <td>2</td>\n",
              "    </tr>\n",
              "    <tr>\n",
              "      <th>1</th>\n",
              "      <td>4.9</td>\n",
              "      <td>3.0</td>\n",
              "      <td>2</td>\n",
              "    </tr>\n",
              "    <tr>\n",
              "      <th>2</th>\n",
              "      <td>4.7</td>\n",
              "      <td>3.2</td>\n",
              "      <td>2</td>\n",
              "    </tr>\n",
              "    <tr>\n",
              "      <th>3</th>\n",
              "      <td>4.6</td>\n",
              "      <td>3.1</td>\n",
              "      <td>2</td>\n",
              "    </tr>\n",
              "    <tr>\n",
              "      <th>4</th>\n",
              "      <td>5.0</td>\n",
              "      <td>3.6</td>\n",
              "      <td>2</td>\n",
              "    </tr>\n",
              "    <tr>\n",
              "      <th>...</th>\n",
              "      <td>...</td>\n",
              "      <td>...</td>\n",
              "      <td>...</td>\n",
              "    </tr>\n",
              "    <tr>\n",
              "      <th>145</th>\n",
              "      <td>6.7</td>\n",
              "      <td>3.0</td>\n",
              "      <td>0</td>\n",
              "    </tr>\n",
              "    <tr>\n",
              "      <th>146</th>\n",
              "      <td>6.3</td>\n",
              "      <td>2.5</td>\n",
              "      <td>0</td>\n",
              "    </tr>\n",
              "    <tr>\n",
              "      <th>147</th>\n",
              "      <td>6.5</td>\n",
              "      <td>3.0</td>\n",
              "      <td>0</td>\n",
              "    </tr>\n",
              "    <tr>\n",
              "      <th>148</th>\n",
              "      <td>6.2</td>\n",
              "      <td>3.4</td>\n",
              "      <td>0</td>\n",
              "    </tr>\n",
              "    <tr>\n",
              "      <th>149</th>\n",
              "      <td>5.9</td>\n",
              "      <td>3.0</td>\n",
              "      <td>0</td>\n",
              "    </tr>\n",
              "  </tbody>\n",
              "</table>\n",
              "<p>149 rows × 3 columns</p>\n",
              "</div>"
            ],
            "text/plain": [
              "     SepalLengthCm  SepalWidthCm  Species\n",
              "0              5.1           3.5        2\n",
              "1              4.9           3.0        2\n",
              "2              4.7           3.2        2\n",
              "3              4.6           3.1        2\n",
              "4              5.0           3.6        2\n",
              "..             ...           ...      ...\n",
              "145            6.7           3.0        0\n",
              "146            6.3           2.5        0\n",
              "147            6.5           3.0        0\n",
              "148            6.2           3.4        0\n",
              "149            5.9           3.0        0\n",
              "\n",
              "[149 rows x 3 columns]"
            ]
          },
          "metadata": {
            "tags": []
          },
          "execution_count": 46
        }
      ]
    },
    {
      "cell_type": "code",
      "metadata": {
        "id": "nNVWA83ISC1r",
        "outputId": "eee2e62d-ab8f-47ad-a907-ca3b21a5fd7b",
        "colab": {
          "base_uri": "https://localhost:8080/",
          "height": 542
        }
      },
      "source": [
        "fig = plt.scatter(data, y=\"SepalWidthCm\", x=\"SepalLengthCm\", color=\"Species\")\n",
        "fig.show()"
      ],
      "execution_count": null,
      "outputs": [
        {
          "output_type": "display_data",
          "data": {
            "text/html": [
              "<html>\n",
              "<head><meta charset=\"utf-8\" /></head>\n",
              "<body>\n",
              "    <div>\n",
              "            <script src=\"https://cdnjs.cloudflare.com/ajax/libs/mathjax/2.7.5/MathJax.js?config=TeX-AMS-MML_SVG\"></script><script type=\"text/javascript\">if (window.MathJax) {MathJax.Hub.Config({SVG: {font: \"STIX-Web\"}});}</script>\n",
              "                <script type=\"text/javascript\">window.PlotlyConfig = {MathJaxConfig: 'local'};</script>\n",
              "        <script src=\"https://cdn.plot.ly/plotly-latest.min.js\"></script>    \n",
              "            <div id=\"199d5db4-1339-4b44-8ff3-7345e12a6bef\" class=\"plotly-graph-div\" style=\"height:525px; width:100%;\"></div>\n",
              "            <script type=\"text/javascript\">\n",
              "                \n",
              "                    window.PLOTLYENV=window.PLOTLYENV || {};\n",
              "                    \n",
              "                if (document.getElementById(\"199d5db4-1339-4b44-8ff3-7345e12a6bef\")) {\n",
              "                    Plotly.newPlot(\n",
              "                        '199d5db4-1339-4b44-8ff3-7345e12a6bef',\n",
              "                        [{\"hoverlabel\": {\"namelength\": 0}, \"hovertemplate\": \"SepalLengthCm=%{x}<br>SepalWidthCm=%{y}<br>Species=%{marker.color}\", \"legendgroup\": \"\", \"marker\": {\"color\": [2, 2, 2, 2, 2, 2, 2, 2, 2, 2, 2, 2, 2, 2, 2, 2, 2, 2, 2, 2, 2, 2, 2, 2, 2, 2, 2, 2, 2, 2, 2, 2, 2, 2, 2, 2, 2, 2, 2, 2, 2, 2, 2, 2, 2, 2, 2, 2, 2, 1, 1, 1, 1, 1, 1, 1, 1, 1, 1, 1, 1, 1, 1, 1, 1, 1, 1, 1, 1, 1, 1, 1, 1, 1, 1, 1, 1, 1, 1, 1, 1, 1, 1, 1, 1, 1, 1, 1, 1, 1, 1, 1, 1, 1, 1, 1, 1, 1, 1, 0, 0, 0, 0, 0, 0, 0, 0, 0, 0, 0, 0, 0, 0, 0, 0, 0, 0, 0, 0, 0, 0, 0, 0, 0, 0, 0, 0, 0, 0, 0, 0, 0, 0, 0, 0, 0, 0, 0, 0, 0, 0, 0, 0, 0, 0, 0, 0, 0, 0], \"coloraxis\": \"coloraxis\", \"symbol\": \"circle\"}, \"mode\": \"markers\", \"name\": \"\", \"showlegend\": false, \"type\": \"scatter\", \"x\": [5.1, 4.9, 4.7, 4.6, 5.0, 5.4, 4.6, 5.0, 4.4, 4.9, 5.4, 4.8, 4.8, 4.3, 5.8, 5.4, 5.1, 5.7, 5.1, 5.4, 5.1, 4.6, 5.1, 4.8, 5.0, 5.0, 5.2, 5.2, 4.7, 4.8, 5.4, 5.2, 5.5, 4.9, 5.0, 5.5, 4.9, 4.4, 5.1, 5.0, 4.5, 4.4, 5.0, 5.1, 4.8, 5.1, 4.6, 5.3, 5.0, 7.0, 6.4, 6.9, 5.5, 6.5, 5.7, 6.3, 4.9, 6.6, 5.2, 5.0, 5.9, 6.0, 6.1, 5.6, 6.7, 5.6, 5.8, 6.2, 5.6, 5.9, 6.1, 6.3, 6.1, 6.4, 6.6, 6.8, 6.7, 6.0, 5.7, 5.5, 5.5, 5.8, 6.0, 5.4, 6.0, 6.7, 6.3, 5.6, 5.5, 5.5, 6.1, 5.8, 5.0, 5.6, 5.7, 5.7, 6.2, 5.1, 5.7, 6.3, 5.8, 7.1, 6.3, 6.5, 7.6, 4.9, 7.3, 6.7, 7.2, 6.5, 6.4, 6.8, 5.7, 5.8, 6.4, 6.5, 7.7, 7.7, 6.0, 6.9, 5.6, 7.7, 6.3, 6.7, 7.2, 6.2, 6.1, 6.4, 7.2, 7.4, 7.9, 6.4, 6.3, 6.1, 7.7, 6.3, 6.4, 6.0, 6.9, 6.7, 6.9, 5.8, 6.8, 6.7, 6.7, 6.3, 6.5, 6.2, 5.9], \"xaxis\": \"x\", \"y\": [3.5, 3.0, 3.2, 3.1, 3.6, 3.9, 3.4, 3.4, 2.9, 3.1, 3.7, 3.4, 3.0, 3.0, 4.0, 3.9, 3.5, 3.8, 3.8, 3.4, 3.7, 3.6, 3.3, 3.4, 3.0, 3.4, 3.5, 3.4, 3.2, 3.1, 3.4, 4.1, 4.2, 3.1, 3.2, 3.5, 3.1, 3.0, 3.4, 3.5, 2.3, 3.2, 3.5, 3.8, 3.0, 3.8, 3.2, 3.7, 3.3, 3.2, 3.2, 3.1, 2.3, 2.8, 2.8, 3.3, 2.4, 2.9, 2.7, 2.0, 3.0, 2.2, 2.9, 2.9, 3.1, 3.0, 2.7, 2.2, 2.5, 3.2, 2.8, 2.5, 2.8, 2.9, 3.0, 2.8, 3.0, 2.9, 2.6, 2.4, 2.4, 2.7, 2.7, 3.0, 3.4, 3.1, 2.3, 3.0, 2.5, 2.6, 3.0, 2.6, 2.3, 2.7, 3.0, 2.9, 2.9, 2.5, 2.8, 3.3, 2.7, 3.0, 2.9, 3.0, 3.0, 2.5, 2.9, 2.5, 3.6, 3.2, 2.7, 3.0, 2.5, 2.8, 3.2, 3.0, 3.8, 2.6, 2.2, 3.2, 2.8, 2.8, 2.7, 3.3, 3.2, 2.8, 3.0, 2.8, 3.0, 2.8, 3.8, 2.8, 2.8, 2.6, 3.0, 3.4, 3.1, 3.0, 3.1, 3.1, 3.1, 2.7, 3.2, 3.3, 3.0, 2.5, 3.0, 3.4, 3.0], \"yaxis\": \"y\"}],\n",
              "                        {\"coloraxis\": {\"colorbar\": {\"title\": {\"text\": \"Species\"}}, \"colorscale\": [[0.0, \"#0d0887\"], [0.1111111111111111, \"#46039f\"], [0.2222222222222222, \"#7201a8\"], [0.3333333333333333, \"#9c179e\"], [0.4444444444444444, \"#bd3786\"], [0.5555555555555556, \"#d8576b\"], [0.6666666666666666, \"#ed7953\"], [0.7777777777777778, \"#fb9f3a\"], [0.8888888888888888, \"#fdca26\"], [1.0, \"#f0f921\"]]}, \"legend\": {\"tracegroupgap\": 0}, \"margin\": {\"t\": 60}, \"template\": {\"data\": {\"bar\": [{\"error_x\": {\"color\": \"#2a3f5f\"}, \"error_y\": {\"color\": \"#2a3f5f\"}, \"marker\": {\"line\": {\"color\": \"#E5ECF6\", \"width\": 0.5}}, \"type\": \"bar\"}], \"barpolar\": [{\"marker\": {\"line\": {\"color\": \"#E5ECF6\", \"width\": 0.5}}, \"type\": \"barpolar\"}], \"carpet\": [{\"aaxis\": {\"endlinecolor\": \"#2a3f5f\", \"gridcolor\": \"white\", \"linecolor\": \"white\", \"minorgridcolor\": \"white\", \"startlinecolor\": \"#2a3f5f\"}, \"baxis\": {\"endlinecolor\": \"#2a3f5f\", \"gridcolor\": \"white\", \"linecolor\": \"white\", \"minorgridcolor\": \"white\", \"startlinecolor\": \"#2a3f5f\"}, \"type\": \"carpet\"}], \"choropleth\": [{\"colorbar\": {\"outlinewidth\": 0, \"ticks\": \"\"}, \"type\": \"choropleth\"}], \"contour\": [{\"colorbar\": {\"outlinewidth\": 0, \"ticks\": \"\"}, \"colorscale\": [[0.0, \"#0d0887\"], [0.1111111111111111, \"#46039f\"], [0.2222222222222222, \"#7201a8\"], [0.3333333333333333, \"#9c179e\"], [0.4444444444444444, \"#bd3786\"], [0.5555555555555556, \"#d8576b\"], [0.6666666666666666, \"#ed7953\"], [0.7777777777777778, \"#fb9f3a\"], [0.8888888888888888, \"#fdca26\"], [1.0, \"#f0f921\"]], \"type\": \"contour\"}], \"contourcarpet\": [{\"colorbar\": {\"outlinewidth\": 0, \"ticks\": \"\"}, \"type\": \"contourcarpet\"}], \"heatmap\": [{\"colorbar\": {\"outlinewidth\": 0, \"ticks\": \"\"}, \"colorscale\": [[0.0, \"#0d0887\"], [0.1111111111111111, \"#46039f\"], [0.2222222222222222, \"#7201a8\"], [0.3333333333333333, \"#9c179e\"], [0.4444444444444444, \"#bd3786\"], [0.5555555555555556, \"#d8576b\"], [0.6666666666666666, \"#ed7953\"], [0.7777777777777778, \"#fb9f3a\"], [0.8888888888888888, \"#fdca26\"], [1.0, \"#f0f921\"]], \"type\": \"heatmap\"}], \"heatmapgl\": [{\"colorbar\": {\"outlinewidth\": 0, \"ticks\": \"\"}, \"colorscale\": [[0.0, \"#0d0887\"], [0.1111111111111111, \"#46039f\"], [0.2222222222222222, \"#7201a8\"], [0.3333333333333333, \"#9c179e\"], [0.4444444444444444, \"#bd3786\"], [0.5555555555555556, \"#d8576b\"], [0.6666666666666666, \"#ed7953\"], [0.7777777777777778, \"#fb9f3a\"], [0.8888888888888888, \"#fdca26\"], [1.0, \"#f0f921\"]], \"type\": \"heatmapgl\"}], \"histogram\": [{\"marker\": {\"colorbar\": {\"outlinewidth\": 0, \"ticks\": \"\"}}, \"type\": \"histogram\"}], \"histogram2d\": [{\"colorbar\": {\"outlinewidth\": 0, \"ticks\": \"\"}, \"colorscale\": [[0.0, \"#0d0887\"], [0.1111111111111111, \"#46039f\"], [0.2222222222222222, \"#7201a8\"], [0.3333333333333333, \"#9c179e\"], [0.4444444444444444, \"#bd3786\"], [0.5555555555555556, \"#d8576b\"], [0.6666666666666666, \"#ed7953\"], [0.7777777777777778, \"#fb9f3a\"], [0.8888888888888888, \"#fdca26\"], [1.0, \"#f0f921\"]], \"type\": \"histogram2d\"}], \"histogram2dcontour\": [{\"colorbar\": {\"outlinewidth\": 0, \"ticks\": \"\"}, \"colorscale\": [[0.0, \"#0d0887\"], [0.1111111111111111, \"#46039f\"], [0.2222222222222222, \"#7201a8\"], [0.3333333333333333, \"#9c179e\"], [0.4444444444444444, \"#bd3786\"], [0.5555555555555556, \"#d8576b\"], [0.6666666666666666, \"#ed7953\"], [0.7777777777777778, \"#fb9f3a\"], [0.8888888888888888, \"#fdca26\"], [1.0, \"#f0f921\"]], \"type\": \"histogram2dcontour\"}], \"mesh3d\": [{\"colorbar\": {\"outlinewidth\": 0, \"ticks\": \"\"}, \"type\": \"mesh3d\"}], \"parcoords\": [{\"line\": {\"colorbar\": {\"outlinewidth\": 0, \"ticks\": \"\"}}, \"type\": \"parcoords\"}], \"pie\": [{\"automargin\": true, \"type\": \"pie\"}], \"scatter\": [{\"marker\": {\"colorbar\": {\"outlinewidth\": 0, \"ticks\": \"\"}}, \"type\": \"scatter\"}], \"scatter3d\": [{\"line\": {\"colorbar\": {\"outlinewidth\": 0, \"ticks\": \"\"}}, \"marker\": {\"colorbar\": {\"outlinewidth\": 0, \"ticks\": \"\"}}, \"type\": \"scatter3d\"}], \"scattercarpet\": [{\"marker\": {\"colorbar\": {\"outlinewidth\": 0, \"ticks\": \"\"}}, \"type\": \"scattercarpet\"}], \"scattergeo\": [{\"marker\": {\"colorbar\": {\"outlinewidth\": 0, \"ticks\": \"\"}}, \"type\": \"scattergeo\"}], \"scattergl\": [{\"marker\": {\"colorbar\": {\"outlinewidth\": 0, \"ticks\": \"\"}}, \"type\": \"scattergl\"}], \"scattermapbox\": [{\"marker\": {\"colorbar\": {\"outlinewidth\": 0, \"ticks\": \"\"}}, \"type\": \"scattermapbox\"}], \"scatterpolar\": [{\"marker\": {\"colorbar\": {\"outlinewidth\": 0, \"ticks\": \"\"}}, \"type\": \"scatterpolar\"}], \"scatterpolargl\": [{\"marker\": {\"colorbar\": {\"outlinewidth\": 0, \"ticks\": \"\"}}, \"type\": \"scatterpolargl\"}], \"scatterternary\": [{\"marker\": {\"colorbar\": {\"outlinewidth\": 0, \"ticks\": \"\"}}, \"type\": \"scatterternary\"}], \"surface\": [{\"colorbar\": {\"outlinewidth\": 0, \"ticks\": \"\"}, \"colorscale\": [[0.0, \"#0d0887\"], [0.1111111111111111, \"#46039f\"], [0.2222222222222222, \"#7201a8\"], [0.3333333333333333, \"#9c179e\"], [0.4444444444444444, \"#bd3786\"], [0.5555555555555556, \"#d8576b\"], [0.6666666666666666, \"#ed7953\"], [0.7777777777777778, \"#fb9f3a\"], [0.8888888888888888, \"#fdca26\"], [1.0, \"#f0f921\"]], \"type\": \"surface\"}], \"table\": [{\"cells\": {\"fill\": {\"color\": \"#EBF0F8\"}, \"line\": {\"color\": \"white\"}}, \"header\": {\"fill\": {\"color\": \"#C8D4E3\"}, \"line\": {\"color\": \"white\"}}, \"type\": \"table\"}]}, \"layout\": {\"annotationdefaults\": {\"arrowcolor\": \"#2a3f5f\", \"arrowhead\": 0, \"arrowwidth\": 1}, \"coloraxis\": {\"colorbar\": {\"outlinewidth\": 0, \"ticks\": \"\"}}, \"colorscale\": {\"diverging\": [[0, \"#8e0152\"], [0.1, \"#c51b7d\"], [0.2, \"#de77ae\"], [0.3, \"#f1b6da\"], [0.4, \"#fde0ef\"], [0.5, \"#f7f7f7\"], [0.6, \"#e6f5d0\"], [0.7, \"#b8e186\"], [0.8, \"#7fbc41\"], [0.9, \"#4d9221\"], [1, \"#276419\"]], \"sequential\": [[0.0, \"#0d0887\"], [0.1111111111111111, \"#46039f\"], [0.2222222222222222, \"#7201a8\"], [0.3333333333333333, \"#9c179e\"], [0.4444444444444444, \"#bd3786\"], [0.5555555555555556, \"#d8576b\"], [0.6666666666666666, \"#ed7953\"], [0.7777777777777778, \"#fb9f3a\"], [0.8888888888888888, \"#fdca26\"], [1.0, \"#f0f921\"]], \"sequentialminus\": [[0.0, \"#0d0887\"], [0.1111111111111111, \"#46039f\"], [0.2222222222222222, \"#7201a8\"], [0.3333333333333333, \"#9c179e\"], [0.4444444444444444, \"#bd3786\"], [0.5555555555555556, \"#d8576b\"], [0.6666666666666666, \"#ed7953\"], [0.7777777777777778, \"#fb9f3a\"], [0.8888888888888888, \"#fdca26\"], [1.0, \"#f0f921\"]]}, \"colorway\": [\"#636efa\", \"#EF553B\", \"#00cc96\", \"#ab63fa\", \"#FFA15A\", \"#19d3f3\", \"#FF6692\", \"#B6E880\", \"#FF97FF\", \"#FECB52\"], \"font\": {\"color\": \"#2a3f5f\"}, \"geo\": {\"bgcolor\": \"white\", \"lakecolor\": \"white\", \"landcolor\": \"#E5ECF6\", \"showlakes\": true, \"showland\": true, \"subunitcolor\": \"white\"}, \"hoverlabel\": {\"align\": \"left\"}, \"hovermode\": \"closest\", \"mapbox\": {\"style\": \"light\"}, \"paper_bgcolor\": \"white\", \"plot_bgcolor\": \"#E5ECF6\", \"polar\": {\"angularaxis\": {\"gridcolor\": \"white\", \"linecolor\": \"white\", \"ticks\": \"\"}, \"bgcolor\": \"#E5ECF6\", \"radialaxis\": {\"gridcolor\": \"white\", \"linecolor\": \"white\", \"ticks\": \"\"}}, \"scene\": {\"xaxis\": {\"backgroundcolor\": \"#E5ECF6\", \"gridcolor\": \"white\", \"gridwidth\": 2, \"linecolor\": \"white\", \"showbackground\": true, \"ticks\": \"\", \"zerolinecolor\": \"white\"}, \"yaxis\": {\"backgroundcolor\": \"#E5ECF6\", \"gridcolor\": \"white\", \"gridwidth\": 2, \"linecolor\": \"white\", \"showbackground\": true, \"ticks\": \"\", \"zerolinecolor\": \"white\"}, \"zaxis\": {\"backgroundcolor\": \"#E5ECF6\", \"gridcolor\": \"white\", \"gridwidth\": 2, \"linecolor\": \"white\", \"showbackground\": true, \"ticks\": \"\", \"zerolinecolor\": \"white\"}}, \"shapedefaults\": {\"line\": {\"color\": \"#2a3f5f\"}}, \"ternary\": {\"aaxis\": {\"gridcolor\": \"white\", \"linecolor\": \"white\", \"ticks\": \"\"}, \"baxis\": {\"gridcolor\": \"white\", \"linecolor\": \"white\", \"ticks\": \"\"}, \"bgcolor\": \"#E5ECF6\", \"caxis\": {\"gridcolor\": \"white\", \"linecolor\": \"white\", \"ticks\": \"\"}}, \"title\": {\"x\": 0.05}, \"xaxis\": {\"automargin\": true, \"gridcolor\": \"white\", \"linecolor\": \"white\", \"ticks\": \"\", \"title\": {\"standoff\": 15}, \"zerolinecolor\": \"white\", \"zerolinewidth\": 2}, \"yaxis\": {\"automargin\": true, \"gridcolor\": \"white\", \"linecolor\": \"white\", \"ticks\": \"\", \"title\": {\"standoff\": 15}, \"zerolinecolor\": \"white\", \"zerolinewidth\": 2}}}, \"xaxis\": {\"anchor\": \"y\", \"domain\": [0.0, 1.0], \"title\": {\"text\": \"SepalLengthCm\"}}, \"yaxis\": {\"anchor\": \"x\", \"domain\": [0.0, 1.0], \"title\": {\"text\": \"SepalWidthCm\"}}},\n",
              "                        {\"responsive\": true}\n",
              "                    ).then(function(){\n",
              "                            \n",
              "var gd = document.getElementById('199d5db4-1339-4b44-8ff3-7345e12a6bef');\n",
              "var x = new MutationObserver(function (mutations, observer) {{\n",
              "        var display = window.getComputedStyle(gd).display;\n",
              "        if (!display || display === 'none') {{\n",
              "            console.log([gd, 'removed!']);\n",
              "            Plotly.purge(gd);\n",
              "            observer.disconnect();\n",
              "        }}\n",
              "}});\n",
              "\n",
              "// Listen for the removal of the full notebook cells\n",
              "var notebookContainer = gd.closest('#notebook-container');\n",
              "if (notebookContainer) {{\n",
              "    x.observe(notebookContainer, {childList: true});\n",
              "}}\n",
              "\n",
              "// Listen for the clearing of the current output cell\n",
              "var outputEl = gd.closest('.output');\n",
              "if (outputEl) {{\n",
              "    x.observe(outputEl, {childList: true});\n",
              "}}\n",
              "\n",
              "                        })\n",
              "                };\n",
              "                \n",
              "            </script>\n",
              "        </div>\n",
              "</body>\n",
              "</html>"
            ]
          },
          "metadata": {
            "tags": []
          }
        }
      ]
    },
    {
      "cell_type": "code",
      "metadata": {
        "id": "_jsYYAlRQEPV"
      },
      "source": [
        "x=data.drop([\"Species\"],axis=1)\n",
        "y=data[\"Species\"]\n"
      ],
      "execution_count": null,
      "outputs": []
    },
    {
      "cell_type": "code",
      "metadata": {
        "id": "4lJcuAChZNT3"
      },
      "source": [
        "from sklearn.model_selection import train_test_split \n",
        "(x_train, X_vt, y_train, y_vt) = train_test_split(x, y, test_size=0.4, random_state=0)\n",
        "(x_validation, x_test, y_validation, y_test) = train_test_split(X_vt, y_vt, test_size=0.5, random_state=0)"
      ],
      "execution_count": null,
      "outputs": []
    },
    {
      "cell_type": "markdown",
      "metadata": {
        "id": "N2iOBBypWtuO"
      },
      "source": [
        "**KNN optimal value**"
      ]
    },
    {
      "cell_type": "code",
      "metadata": {
        "id": "QggFvkDsXQaa",
        "outputId": "9119c31e-9def-47f5-880e-27f3ff548db3",
        "colab": {
          "base_uri": "https://localhost:8080/",
          "height": 532
        }
      },
      "source": [
        "from sklearn.metrics import accuracy_score\n",
        "for k in range(1,30): \n",
        "  knn=KNeighborsClassifier(n_neighbors=k,p=1)\n",
        "  knn.fit(x_train,y_train)\n",
        "  y_predict=knn.predict(x_test)\n",
        "  print(\"accuracy for k = \",k, \"is\",accuracy_score(y_predict,y_test))\n",
        "  #we choose k=5"
      ],
      "execution_count": null,
      "outputs": [
        {
          "output_type": "stream",
          "text": [
            "accuracy for k =  1 is 0.6666666666666666\n",
            "accuracy for k =  2 is 0.7\n",
            "accuracy for k =  3 is 0.6666666666666666\n",
            "accuracy for k =  4 is 0.6666666666666666\n",
            "accuracy for k =  5 is 0.7666666666666667\n",
            "accuracy for k =  6 is 0.7333333333333333\n",
            "accuracy for k =  7 is 0.7\n",
            "accuracy for k =  8 is 0.7333333333333333\n",
            "accuracy for k =  9 is 0.7333333333333333\n",
            "accuracy for k =  10 is 0.7333333333333333\n",
            "accuracy for k =  11 is 0.7333333333333333\n",
            "accuracy for k =  12 is 0.7333333333333333\n",
            "accuracy for k =  13 is 0.7666666666666667\n",
            "accuracy for k =  14 is 0.7666666666666667\n",
            "accuracy for k =  15 is 0.7666666666666667\n",
            "accuracy for k =  16 is 0.7\n",
            "accuracy for k =  17 is 0.7333333333333333\n",
            "accuracy for k =  18 is 0.7333333333333333\n",
            "accuracy for k =  19 is 0.6666666666666666\n",
            "accuracy for k =  20 is 0.6666666666666666\n",
            "accuracy for k =  21 is 0.6666666666666666\n",
            "accuracy for k =  22 is 0.6666666666666666\n",
            "accuracy for k =  23 is 0.6333333333333333\n",
            "accuracy for k =  24 is 0.6333333333333333\n",
            "accuracy for k =  25 is 0.6333333333333333\n",
            "accuracy for k =  26 is 0.6333333333333333\n",
            "accuracy for k =  27 is 0.6\n",
            "accuracy for k =  28 is 0.6333333333333333\n",
            "accuracy for k =  29 is 0.6\n"
          ],
          "name": "stdout"
        }
      ]
    },
    {
      "cell_type": "code",
      "metadata": {
        "id": "vlhGRoR7dXer",
        "outputId": "59db11ef-5cc2-47d7-bd34-e13a6710e0f1",
        "colab": {
          "base_uri": "https://localhost:8080/",
          "height": 34
        }
      },
      "source": [
        "  knn=KNeighborsClassifier(n_neighbors=5,p=1)\n",
        "  knn.fit(x_train,y_train)\n",
        "  y_predict=knn.predict(x_test)\n",
        "  print(\"accuracy\",accuracy_score(y_predict,y_test))\n"
      ],
      "execution_count": null,
      "outputs": [
        {
          "output_type": "stream",
          "text": [
            "accuracy 0.7666666666666667\n"
          ],
          "name": "stdout"
        }
      ]
    },
    {
      "cell_type": "markdown",
      "metadata": {
        "id": "IRMO9wgheZEU"
      },
      "source": [
        "**Visualisation**\n"
      ]
    },
    {
      "cell_type": "code",
      "metadata": {
        "id": "-RBp3gOxeej8",
        "outputId": "9f5d8542-e454-4df9-81c8-e2e21189e6fd",
        "colab": {
          "base_uri": "https://localhost:8080/",
          "height": 365
        }
      },
      "source": [
        "import matplotlib.pyplot as plt\n",
        "import pandas as pd\n",
        "from sklearn import datasets, neighbors\n",
        "from mlxtend.plotting import plot_decision_regions\n",
        "plot_decision_regions(x.values, y.values, clf=knn, legend=2)\n",
        "plt.xlabel(\"X\")\n",
        "plt.ylabel(\"Y\")\n",
        "plt.title(\"Knn with K=5\")\n",
        "plt.show()"
      ],
      "execution_count": null,
      "outputs": [
        {
          "output_type": "stream",
          "text": [
            "/usr/local/lib/python3.6/dist-packages/mlxtend/plotting/decision_regions.py:244: MatplotlibDeprecationWarning:\n",
            "\n",
            "Passing unsupported keyword arguments to axis() will raise a TypeError in 3.3.\n",
            "\n"
          ],
          "name": "stderr"
        },
        {
          "output_type": "display_data",
          "data": {
            "image/png": "[encoded data removed]",
            "text/plain": [
              "<Figure size 432x288 with 1 Axes>"
            ]
          },
          "metadata": {
            "tags": [],
            "needs_background": "light"
          }
        }
      ]
    },
    {
      "cell_type": "markdown",
      "metadata": {
        "id": "IzbR04-ddmpf"
      },
      "source": [
        "**Validation**"
      ]
    },
    {
      "cell_type": "code",
      "metadata": {
        "id": "YExuQPIPdlfr",
        "outputId": "1f3d5a30-2658-497e-de6a-abb561d8fe82",
        "colab": {
          "base_uri": "https://localhost:8080/",
          "height": 34
        }
      },
      "source": [
        "y_validation_predict=knn.predict(x_validation)\n",
        "print(\"accuracy\",accuracy_score(y_validation_predict,y_validation))\n"
      ],
      "execution_count": null,
      "outputs": [
        {
          "output_type": "stream",
          "text": [
            "accuracy 0.7\n"
          ],
          "name": "stdout"
        }
      ]
    },
    {
      "cell_type": "code",
      "metadata": {
        "id": "h0onwPDuSGKI"
      },
      "source": [
        ""
      ],
      "execution_count": null,
      "outputs": []
    }
  ]
}